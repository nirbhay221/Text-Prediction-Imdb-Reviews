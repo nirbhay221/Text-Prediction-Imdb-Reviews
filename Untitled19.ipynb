{
  "nbformat": 4,
  "nbformat_minor": 0,
  "metadata": {
    "colab": {
      "name": "Untitled19.ipynb",
      "provenance": [],
      "collapsed_sections": []
    },
    "kernelspec": {
      "name": "python3",
      "display_name": "Python 3"
    },
    "accelerator": "GPU"
  },
  "cells": [
    {
      "cell_type": "markdown",
      "metadata": {
        "id": "czKSfOm2k_uu"
      },
      "source": [
        ""
      ]
    },
    {
      "cell_type": "code",
      "metadata": {
        "id": "vVQuxxJfNR72"
      },
      "source": [
        "import tensorflow_datasets as tfds"
      ],
      "execution_count": null,
      "outputs": []
    },
    {
      "cell_type": "code",
      "metadata": {
        "id": "pZfVeo1TNYi3"
      },
      "source": [
        "imdb,info = tfds.load('imdb_reviews',with_info=True,as_supervised=True)\n"
      ],
      "execution_count": null,
      "outputs": []
    },
    {
      "cell_type": "code",
      "metadata": {
        "id": "Tz4EAR75Nr3y"
      },
      "source": [
        "train_data,test_data = imdb['train'],imdb['test']\n",
        "\n"
      ],
      "execution_count": null,
      "outputs": []
    },
    {
      "cell_type": "code",
      "metadata": {
        "id": "C1ruO7AfODVn"
      },
      "source": [
        "training_sentences =[]\n",
        "training_labels = []\n",
        "testing_sentences = []\n",
        "testing_labels =[]\n",
        "for s,l in train_data:\n",
        "  training_sentences.append(s.numpy().decode('utf-8'))\n",
        "  training_labels.append(l.numpy())\n",
        "for s,l in test_data:\n",
        "  testing_sentences.append(s.numpy().decode('utf-8'))\n",
        "  testing_labels.append(l.numpy())\n",
        "\n"
      ],
      "execution_count": null,
      "outputs": []
    },
    {
      "cell_type": "code",
      "metadata": {
        "id": "yPpPOM25Ouoq"
      },
      "source": [
        "from tensorflow.keras.preprocessing.text import Tokenizer\n",
        "from tensorflow.keras.preprocessing.sequence import pad_sequences\n",
        "vocab_size = 10000\n",
        "embedding_dim = 16\n",
        "max_length = 120\n",
        "trunc_type='post'\n",
        "oov_tok = \"<OOV>\"\n"
      ],
      "execution_count": null,
      "outputs": []
    },
    {
      "cell_type": "code",
      "metadata": {
        "id": "yeFp29bpPIRm"
      },
      "source": [
        "tokenizer = Tokenizer(num_words = vocab_size,oov_token = '<OOV>')\n",
        "tokenizer.fit_on_texts(training_sentences)\n",
        "word_index= tokenizer.word_index"
      ],
      "execution_count": null,
      "outputs": []
    },
    {
      "cell_type": "code",
      "metadata": {
        "id": "4kHSd6uoP8r4"
      },
      "source": [
        "import numpy as np \n",
        "training_labels_final = np.array(training_labels)\n",
        "testing_label_final = np.array(testing_labels)"
      ],
      "execution_count": null,
      "outputs": []
    },
    {
      "cell_type": "code",
      "metadata": {
        "id": "JgI9TjdqQlW2"
      },
      "source": [
        "training_seq = tokenizer.texts_to_sequences(training_sentences)\n",
        "testing_seq = tokenizer.texts_to_sequences(testing_sentences)\n",
        "padded_t = pad_sequences(training_seq,maxlen=120,truncating='post')\n",
        "padded_tt = pad_sequences(testing_seq,maxlen=120,truncating='post')\n"
      ],
      "execution_count": null,
      "outputs": []
    },
    {
      "cell_type": "code",
      "metadata": {
        "id": "spiImFHjRRVR"
      },
      "source": [
        "reverse_word_index = dict([(value,key) for (key,value) in word_index.items()])\n",
        "def decode_reviews(text):\n",
        "  return ' '.join(reverse_index(x,'?') for x in text)"
      ],
      "execution_count": null,
      "outputs": []
    },
    {
      "cell_type": "code",
      "metadata": {
        "id": "76FBlHHCSZJU"
      },
      "source": [
        "import tensorflow as tf\n",
        "model = tf.keras.Sequential([\n",
        "                             tf.keras.layers.Embedding(vocab_size,embedding_dim,input_length = max_length),\n",
        "                             tf.keras.layers.Bidirectional(tf.keras.layers.GRU(32)),\n",
        "                              tf.keras.layers.Dense(units = 6,activation = 'relu'),\n",
        "                              tf.keras.layers.Dense(units = 1,activation = 'sigmoid')\n",
        "])"
      ],
      "execution_count": null,
      "outputs": []
    },
    {
      "cell_type": "code",
      "metadata": {
        "id": "wlZSo_rLTWrY",
        "outputId": "cd5b833c-2b4c-4508-982f-369e830a7142",
        "colab": {
          "base_uri": "https://localhost:8080/",
          "height": 298
        }
      },
      "source": [
        "model.summary()"
      ],
      "execution_count": null,
      "outputs": [
        {
          "output_type": "stream",
          "text": [
            "Model: \"sequential\"\n",
            "_________________________________________________________________\n",
            "Layer (type)                 Output Shape              Param #   \n",
            "=================================================================\n",
            "embedding (Embedding)        (None, 120, 16)           160000    \n",
            "_________________________________________________________________\n",
            "bidirectional (Bidirectional (None, 64)                9600      \n",
            "_________________________________________________________________\n",
            "dense (Dense)                (None, 6)                 390       \n",
            "_________________________________________________________________\n",
            "dense_1 (Dense)              (None, 1)                 7         \n",
            "=================================================================\n",
            "Total params: 169,997\n",
            "Trainable params: 169,997\n",
            "Non-trainable params: 0\n",
            "_________________________________________________________________\n"
          ],
          "name": "stdout"
        }
      ]
    },
    {
      "cell_type": "code",
      "metadata": {
        "id": "m7IvWTIxTizm"
      },
      "source": [
        "model.compile(loss= 'binary_crossentropy',optimizer= 'adam',metrics = ['accuracy'])\n"
      ],
      "execution_count": null,
      "outputs": []
    },
    {
      "cell_type": "code",
      "metadata": {
        "id": "_cZ7PEKbT6t_",
        "outputId": "b886a514-839e-402a-9792-9259265ac99e",
        "colab": {
          "base_uri": "https://localhost:8080/",
          "height": 1000
        }
      },
      "source": [
        "epoch_num = 50\n",
        "\n",
        "history = model.fit(padded_t,training_labels_final,epochs = epoch_num,validation_data=(padded_tt,testing_label_final))"
      ],
      "execution_count": null,
      "outputs": [
        {
          "output_type": "stream",
          "text": [
            "Epoch 1/50\n",
            "782/782 [==============================] - 16s 21ms/step - loss: 0.5079 - accuracy: 0.7310 - val_loss: 0.4487 - val_accuracy: 0.7929\n",
            "Epoch 2/50\n",
            "782/782 [==============================] - 16s 20ms/step - loss: 0.3004 - accuracy: 0.8795 - val_loss: 0.4010 - val_accuracy: 0.8198\n",
            "Epoch 3/50\n",
            "782/782 [==============================] - 16s 20ms/step - loss: 0.2355 - accuracy: 0.9094 - val_loss: 0.4559 - val_accuracy: 0.8039\n",
            "Epoch 4/50\n",
            "782/782 [==============================] - 16s 20ms/step - loss: 0.1870 - accuracy: 0.9314 - val_loss: 0.4814 - val_accuracy: 0.8053\n",
            "Epoch 5/50\n",
            "782/782 [==============================] - 16s 20ms/step - loss: 0.1394 - accuracy: 0.9515 - val_loss: 0.5795 - val_accuracy: 0.8117\n",
            "Epoch 6/50\n",
            "782/782 [==============================] - 15s 20ms/step - loss: 0.1024 - accuracy: 0.9636 - val_loss: 0.6866 - val_accuracy: 0.8058\n",
            "Epoch 7/50\n",
            "782/782 [==============================] - 15s 20ms/step - loss: 0.0691 - accuracy: 0.9773 - val_loss: 0.7896 - val_accuracy: 0.8030\n",
            "Epoch 8/50\n",
            "782/782 [==============================] - 15s 20ms/step - loss: 0.0490 - accuracy: 0.9848 - val_loss: 0.9186 - val_accuracy: 0.7948\n",
            "Epoch 9/50\n",
            "782/782 [==============================] - 15s 20ms/step - loss: 0.0377 - accuracy: 0.9876 - val_loss: 0.9856 - val_accuracy: 0.7966\n",
            "Epoch 10/50\n",
            "782/782 [==============================] - 15s 20ms/step - loss: 0.0276 - accuracy: 0.9910 - val_loss: 1.1465 - val_accuracy: 0.7969\n",
            "Epoch 11/50\n",
            "782/782 [==============================] - 15s 20ms/step - loss: 0.0195 - accuracy: 0.9940 - val_loss: 1.2631 - val_accuracy: 0.7857\n",
            "Epoch 12/50\n",
            "782/782 [==============================] - 15s 19ms/step - loss: 0.0231 - accuracy: 0.9918 - val_loss: 1.1913 - val_accuracy: 0.7928\n",
            "Epoch 13/50\n",
            "782/782 [==============================] - 15s 19ms/step - loss: 0.0152 - accuracy: 0.9946 - val_loss: 1.3405 - val_accuracy: 0.7876\n",
            "Epoch 14/50\n",
            "782/782 [==============================] - 16s 20ms/step - loss: 0.0092 - accuracy: 0.9970 - val_loss: 1.4423 - val_accuracy: 0.7895\n",
            "Epoch 15/50\n",
            "782/782 [==============================] - 15s 19ms/step - loss: 0.0111 - accuracy: 0.9960 - val_loss: 1.5508 - val_accuracy: 0.7925\n",
            "Epoch 16/50\n",
            "782/782 [==============================] - 15s 19ms/step - loss: 0.0120 - accuracy: 0.9960 - val_loss: 1.4672 - val_accuracy: 0.7874\n",
            "Epoch 17/50\n",
            "782/782 [==============================] - 15s 19ms/step - loss: 0.0111 - accuracy: 0.9963 - val_loss: 1.3139 - val_accuracy: 0.7899\n",
            "Epoch 18/50\n",
            "782/782 [==============================] - 15s 19ms/step - loss: 0.0076 - accuracy: 0.9975 - val_loss: 1.6168 - val_accuracy: 0.7947\n",
            "Epoch 19/50\n",
            "782/782 [==============================] - 16s 20ms/step - loss: 0.0074 - accuracy: 0.9977 - val_loss: 1.4344 - val_accuracy: 0.7891\n",
            "Epoch 20/50\n",
            "782/782 [==============================] - 15s 20ms/step - loss: 0.0076 - accuracy: 0.9971 - val_loss: 1.6662 - val_accuracy: 0.7823\n",
            "Epoch 21/50\n",
            "782/782 [==============================] - 15s 20ms/step - loss: 0.0086 - accuracy: 0.9967 - val_loss: 1.5959 - val_accuracy: 0.7920\n",
            "Epoch 22/50\n",
            "782/782 [==============================] - 15s 20ms/step - loss: 0.0046 - accuracy: 0.9985 - val_loss: 1.6610 - val_accuracy: 0.7859\n",
            "Epoch 23/50\n",
            "782/782 [==============================] - 16s 20ms/step - loss: 0.0043 - accuracy: 0.9988 - val_loss: 1.6740 - val_accuracy: 0.7914\n",
            "Epoch 24/50\n",
            "782/782 [==============================] - 16s 20ms/step - loss: 0.0038 - accuracy: 0.9986 - val_loss: 1.8947 - val_accuracy: 0.7908\n",
            "Epoch 25/50\n",
            "782/782 [==============================] - 15s 20ms/step - loss: 0.0097 - accuracy: 0.9970 - val_loss: 1.5190 - val_accuracy: 0.7908\n",
            "Epoch 26/50\n",
            "782/782 [==============================] - 16s 20ms/step - loss: 0.0022 - accuracy: 0.9993 - val_loss: 1.7525 - val_accuracy: 0.7865\n",
            "Epoch 27/50\n",
            "782/782 [==============================] - 16s 20ms/step - loss: 0.0044 - accuracy: 0.9985 - val_loss: 1.6694 - val_accuracy: 0.7896\n",
            "Epoch 28/50\n",
            "782/782 [==============================] - 16s 20ms/step - loss: 0.0067 - accuracy: 0.9979 - val_loss: 1.6448 - val_accuracy: 0.7939\n",
            "Epoch 29/50\n",
            "782/782 [==============================] - 15s 20ms/step - loss: 0.0034 - accuracy: 0.9988 - val_loss: 1.8779 - val_accuracy: 0.7856\n",
            "Epoch 30/50\n",
            "782/782 [==============================] - 16s 20ms/step - loss: 5.5265e-04 - accuracy: 0.9999 - val_loss: 1.8841 - val_accuracy: 0.7895\n",
            "Epoch 31/50\n",
            "782/782 [==============================] - 15s 20ms/step - loss: 7.2599e-05 - accuracy: 1.0000 - val_loss: 1.9996 - val_accuracy: 0.7861\n",
            "Epoch 32/50\n",
            "782/782 [==============================] - 15s 20ms/step - loss: 3.1659e-05 - accuracy: 1.0000 - val_loss: 2.0523 - val_accuracy: 0.7899\n",
            "Epoch 33/50\n",
            "782/782 [==============================] - 15s 20ms/step - loss: 1.8538e-05 - accuracy: 1.0000 - val_loss: 2.1251 - val_accuracy: 0.7906\n",
            "Epoch 34/50\n",
            "782/782 [==============================] - 16s 20ms/step - loss: 1.2525e-05 - accuracy: 1.0000 - val_loss: 2.1909 - val_accuracy: 0.7909\n",
            "Epoch 35/50\n",
            "782/782 [==============================] - 15s 19ms/step - loss: 8.5790e-06 - accuracy: 1.0000 - val_loss: 2.2606 - val_accuracy: 0.7907\n",
            "Epoch 36/50\n",
            "782/782 [==============================] - 15s 19ms/step - loss: 5.8886e-06 - accuracy: 1.0000 - val_loss: 2.3278 - val_accuracy: 0.7910\n",
            "Epoch 37/50\n",
            "782/782 [==============================] - 15s 19ms/step - loss: 4.0191e-06 - accuracy: 1.0000 - val_loss: 2.4016 - val_accuracy: 0.7912\n",
            "Epoch 38/50\n",
            "782/782 [==============================] - 15s 19ms/step - loss: 2.7190e-06 - accuracy: 1.0000 - val_loss: 2.4796 - val_accuracy: 0.7914\n",
            "Epoch 39/50\n",
            "782/782 [==============================] - 16s 20ms/step - loss: 1.8320e-06 - accuracy: 1.0000 - val_loss: 2.5447 - val_accuracy: 0.7916\n",
            "Epoch 40/50\n",
            "782/782 [==============================] - 16s 20ms/step - loss: 1.2272e-06 - accuracy: 1.0000 - val_loss: 2.6263 - val_accuracy: 0.7919\n",
            "Epoch 41/50\n",
            "782/782 [==============================] - 16s 20ms/step - loss: 8.1423e-07 - accuracy: 1.0000 - val_loss: 2.6975 - val_accuracy: 0.7915\n",
            "Epoch 42/50\n",
            "782/782 [==============================] - 15s 20ms/step - loss: 5.4114e-07 - accuracy: 1.0000 - val_loss: 2.7819 - val_accuracy: 0.7916\n",
            "Epoch 43/50\n",
            "782/782 [==============================] - 15s 20ms/step - loss: 3.5901e-07 - accuracy: 1.0000 - val_loss: 2.8554 - val_accuracy: 0.7918\n",
            "Epoch 44/50\n",
            "782/782 [==============================] - 15s 20ms/step - loss: 2.3818e-07 - accuracy: 1.0000 - val_loss: 2.9325 - val_accuracy: 0.7921\n",
            "Epoch 45/50\n",
            "782/782 [==============================] - 15s 20ms/step - loss: 1.5873e-07 - accuracy: 1.0000 - val_loss: 3.0120 - val_accuracy: 0.7921\n",
            "Epoch 46/50\n",
            "782/782 [==============================] - 15s 20ms/step - loss: 1.0574e-07 - accuracy: 1.0000 - val_loss: 3.0930 - val_accuracy: 0.7920\n",
            "Epoch 47/50\n",
            "782/782 [==============================] - 15s 20ms/step - loss: 7.0747e-08 - accuracy: 1.0000 - val_loss: 3.1690 - val_accuracy: 0.7920\n",
            "Epoch 48/50\n",
            "782/782 [==============================] - 15s 19ms/step - loss: 4.7713e-08 - accuracy: 1.0000 - val_loss: 3.2393 - val_accuracy: 0.7920\n",
            "Epoch 49/50\n",
            "782/782 [==============================] - 15s 20ms/step - loss: 3.2430e-08 - accuracy: 1.0000 - val_loss: 3.3222 - val_accuracy: 0.7914\n",
            "Epoch 50/50\n",
            "782/782 [==============================] - 16s 20ms/step - loss: 2.2086e-08 - accuracy: 1.0000 - val_loss: 3.3958 - val_accuracy: 0.7915\n"
          ],
          "name": "stdout"
        }
      ]
    },
    {
      "cell_type": "code",
      "metadata": {
        "id": "0V_LqmK3UNkn",
        "outputId": "30a90ac6-ac29-4b8c-817a-f52dfa7e9841",
        "colab": {
          "base_uri": "https://localhost:8080/",
          "height": 683
        }
      },
      "source": [
        "import matplotlib.pyplot as plt \n",
        "def plot_graphss(history,string):\n",
        "  plt.plot(history.history[string])\n",
        "  plt.plot(history.history[\"val_\"+string])\n",
        "  plt.xlabel('epochs')\n",
        "  plt.ylabel(string)\n",
        "  plt.legend([string,\"val_\"+string])\n",
        "  plt.show()\n",
        "plot_graphs(history,'accuracy')\n",
        "plot_graphs(history,'loss')\n"
      ],
      "execution_count": null,
      "outputs": [
        {
          "output_type": "stream",
          "text": [
            "/usr/local/lib/python3.6/dist-packages/ipykernel_launcher.py:7: UserWarning: Legend does not support 'accuracy' instances.\n",
            "A proxy artist may be used instead.\n",
            "See: http://matplotlib.org/users/legend_guide.html#creating-artists-specifically-for-adding-to-the-legend-aka-proxy-artists\n",
            "  import sys\n"
          ],
          "name": "stderr"
        },
        {
          "output_type": "display_data",
          "data": {
            "image/png": "[encoded data removed]",
            "text/plain": [
              "<Figure size 432x288 with 1 Axes>"
            ]
          },
          "metadata": {
            "tags": [],
            "needs_background": "light"
          }
        },
        {
          "output_type": "stream",
          "text": [
            "/usr/local/lib/python3.6/dist-packages/ipykernel_launcher.py:7: UserWarning: Legend does not support 'loss' instances.\n",
            "A proxy artist may be used instead.\n",
            "See: http://matplotlib.org/users/legend_guide.html#creating-artists-specifically-for-adding-to-the-legend-aka-proxy-artists\n",
            "  import sys\n"
          ],
          "name": "stderr"
        },
        {
          "output_type": "display_data",
          "data": {
            "image/png": "[encoded data removed]",
            "text/plain": [
              "<Figure size 432x288 with 1 Axes>"
            ]
          },
          "metadata": {
            "tags": [],
            "needs_background": "light"
          }
        }
      ]
    },
    {
      "cell_type": "code",
      "metadata": {
        "id": "pntUOgXcqHBb"
      },
      "source": [
        ""
      ],
      "execution_count": null,
      "outputs": []
    }
  ]
}