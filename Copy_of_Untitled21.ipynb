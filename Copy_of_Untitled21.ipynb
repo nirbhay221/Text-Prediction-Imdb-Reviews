{
  "nbformat": 4,
  "nbformat_minor": 0,
  "metadata": {
    "accelerator": "TPU",
    "colab": {
      "name": "Copy of Untitled21.ipynb",
      "provenance": [],
      "collapsed_sections": []
    },
    "kernelspec": {
      "display_name": "Python 3",
      "name": "python3"
    }
  },
  "cells": [
    {
      "cell_type": "code",
      "metadata": {
        "id": "b52JkqJcH8Pb"
      },
      "source": [
        "import numpy as np\n",
        "import tensorflow_datasets as tfds \n",
        "import tensorflow as tf \n",
        "from tensorflow.keras.preprocessing.text import Tokenizer\n",
        "from tensorflow.keras.preprocessing.sequence import pad_sequences"
      ],
      "execution_count": null,
      "outputs": []
    },
    {
      "cell_type": "code",
      "metadata": {
        "id": "pBixJeOtdUu-",
        "outputId": "af5c9b6f-2c35-444d-fda4-3aa8b4d4e0e2",
        "colab": {
          "background_save": true,
          "base_uri": "https://localhost:8080/",
          "height": 221,
          "referenced_widgets": [
            "389b35e55c354bfba879bb7e0389ba63",
            "89126ab7d51646b68ce0109f7b642842",
            "0dc375aaf1e24fe996a8fecac1ed7624",
            "93f0c28c6b4b49a7b8e6a9c55c5a330b",
            "f43e35bdd70b43b191cc7064b4a26f61",
            "fb477e5336ce4a89b3ebe08b2d4d3ddc",
            "05058a4b9436498299464876d59fafa6",
            "649305c0a8344933a3a6081026fbc823"
          ]
        }
      },
      "source": [
        "imdb,info = tfds.load('imdb_reviews',with_info = True,as_supervised=True)\n",
        "train_data,test_data = imdb['train'],imdb['test']"
      ],
      "execution_count": null,
      "outputs": [
        {
          "output_type": "stream",
          "text": [
            "\u001b[1mDownloading and preparing dataset imdb_reviews/plain_text/1.0.0 (download: 80.23 MiB, generated: Unknown size, total: 80.23 MiB) to /root/tensorflow_datasets/imdb_reviews/plain_text/1.0.0...\u001b[0m\n"
          ],
          "name": "stdout"
        },
        {
          "output_type": "display_data",
          "data": {
            "application/vnd.jupyter.widget-view+json": {
              "model_id": "389b35e55c354bfba879bb7e0389ba63",
              "version_major": 2,
              "version_minor": 0
            },
            "text/plain": [
              "HBox(children=(FloatProgress(value=1.0, bar_style='info', description='Dl Completed...', max=1.0, style=Progre…"
            ]
          },
          "metadata": {
            "tags": []
          }
        },
        {
          "output_type": "display_data",
          "data": {
            "application/vnd.jupyter.widget-view+json": {
              "model_id": "89126ab7d51646b68ce0109f7b642842",
              "version_major": 2,
              "version_minor": 0
            },
            "text/plain": [
              "HBox(children=(FloatProgress(value=1.0, bar_style='info', description='Dl Size...', max=1.0, style=ProgressSty…"
            ]
          },
          "metadata": {
            "tags": []
          }
        },
        {
          "output_type": "stream",
          "text": [
            "\n",
            "\n",
            "\n",
            "\n"
          ],
          "name": "stdout"
        },
        {
          "output_type": "display_data",
          "data": {
            "application/vnd.jupyter.widget-view+json": {
              "model_id": "0dc375aaf1e24fe996a8fecac1ed7624",
              "version_major": 2,
              "version_minor": 0
            },
            "text/plain": [
              "HBox(children=(FloatProgress(value=1.0, bar_style='info', max=1.0), HTML(value='')))"
            ]
          },
          "metadata": {
            "tags": []
          }
        },
        {
          "output_type": "stream",
          "text": [
            "\rShuffling and writing examples to /root/tensorflow_datasets/imdb_reviews/plain_text/1.0.0.incompleteDOYL1V/imdb_reviews-train.tfrecord\n"
          ],
          "name": "stdout"
        },
        {
          "output_type": "display_data",
          "data": {
            "application/vnd.jupyter.widget-view+json": {
              "model_id": "93f0c28c6b4b49a7b8e6a9c55c5a330b",
              "version_major": 2,
              "version_minor": 0
            },
            "text/plain": [
              "HBox(children=(FloatProgress(value=0.0, max=25000.0), HTML(value='')))"
            ]
          },
          "metadata": {
            "tags": []
          }
        },
        {
          "output_type": "stream",
          "text": [
            "\r"
          ],
          "name": "stdout"
        },
        {
          "output_type": "display_data",
          "data": {
            "application/vnd.jupyter.widget-view+json": {
              "model_id": "f43e35bdd70b43b191cc7064b4a26f61",
              "version_major": 2,
              "version_minor": 0
            },
            "text/plain": [
              "HBox(children=(FloatProgress(value=1.0, bar_style='info', max=1.0), HTML(value='')))"
            ]
          },
          "metadata": {
            "tags": []
          }
        },
        {
          "output_type": "stream",
          "text": [
            "\rShuffling and writing examples to /root/tensorflow_datasets/imdb_reviews/plain_text/1.0.0.incompleteDOYL1V/imdb_reviews-test.tfrecord\n"
          ],
          "name": "stdout"
        },
        {
          "output_type": "display_data",
          "data": {
            "application/vnd.jupyter.widget-view+json": {
              "model_id": "fb477e5336ce4a89b3ebe08b2d4d3ddc",
              "version_major": 2,
              "version_minor": 0
            },
            "text/plain": [
              "HBox(children=(FloatProgress(value=0.0, max=25000.0), HTML(value='')))"
            ]
          },
          "metadata": {
            "tags": []
          }
        },
        {
          "output_type": "stream",
          "text": [
            "\r"
          ],
          "name": "stdout"
        },
        {
          "output_type": "display_data",
          "data": {
            "application/vnd.jupyter.widget-view+json": {
              "model_id": "05058a4b9436498299464876d59fafa6",
              "version_major": 2,
              "version_minor": 0
            },
            "text/plain": [
              "HBox(children=(FloatProgress(value=1.0, bar_style='info', max=1.0), HTML(value='')))"
            ]
          },
          "metadata": {
            "tags": []
          }
        },
        {
          "output_type": "stream",
          "text": [
            "\rShuffling and writing examples to /root/tensorflow_datasets/imdb_reviews/plain_text/1.0.0.incompleteDOYL1V/imdb_reviews-unsupervised.tfrecord\n"
          ],
          "name": "stdout"
        },
        {
          "output_type": "display_data",
          "data": {
            "application/vnd.jupyter.widget-view+json": {
              "model_id": "649305c0a8344933a3a6081026fbc823",
              "version_major": 2,
              "version_minor": 0
            },
            "text/plain": [
              "HBox(children=(FloatProgress(value=0.0, max=50000.0), HTML(value='')))"
            ]
          },
          "metadata": {
            "tags": []
          }
        },
        {
          "output_type": "stream",
          "text": [
            "\u001b[1mDataset imdb_reviews downloaded and prepared to /root/tensorflow_datasets/imdb_reviews/plain_text/1.0.0. Subsequent calls will reuse this data.\u001b[0m\n",
            "\r"
          ],
          "name": "stdout"
        }
      ]
    },
    {
      "cell_type": "code",
      "metadata": {
        "id": "J0lWVycufxBH",
        "colab": {
          "background_save": true
        }
      },
      "source": [
        "training_sentences = []\n",
        "training_labels = []\n",
        "testing_sentences = []\n",
        "testing_labels = []"
      ],
      "execution_count": null,
      "outputs": []
    },
    {
      "cell_type": "code",
      "metadata": {
        "id": "AdTR-Mr1f4cJ",
        "colab": {
          "background_save": true
        }
      },
      "source": [
        "for s,l in train_data:\n",
        "  training_sentences.append(s.numpy().decode('utf-8'))\n",
        "  training_labels.append(l.numpy())\n",
        "for s,l in test_data:\n",
        "  testing_sentences.append(s.numpy().decode('utf-8'))\n",
        "  testing_labels.append(l.numpy())"
      ],
      "execution_count": null,
      "outputs": []
    },
    {
      "cell_type": "code",
      "metadata": {
        "id": "2r1Enc2bgWAO",
        "colab": {
          "background_save": true
        }
      },
      "source": [
        "vocab_size = 10000\n",
        "embedding_dim = 16\n",
        "max_length = 120\n",
        "trunc_type='post'\n",
        "oov_tok = \"<OOV>\""
      ],
      "execution_count": null,
      "outputs": []
    },
    {
      "cell_type": "code",
      "metadata": {
        "id": "5tqZ_fykgfpC",
        "colab": {
          "background_save": true
        }
      },
      "source": [
        "tokenizer = Tokenizer(num_words =vocab_size ,oov_token = '<OOV>')\n",
        "tokenizer.fit_on_texts(training_sentences)\n",
        "seq_t = tokenizer.texts_to_sequences(training_sentences)\n",
        "pad_seq = pad_sequences(seq_t,truncating=trunc_type,maxlen = max_length)"
      ],
      "execution_count": null,
      "outputs": []
    },
    {
      "cell_type": "code",
      "metadata": {
        "id": "TQctKMfihNut",
        "colab": {
          "background_save": true
        }
      },
      "source": [
        "seq_tt = tokenizer.texts_to_sequences(testing_sentences)\n",
        "pad_seq_t = pad_sequences(seq_tt,maxlen=max_length,truncating= trunc_type)"
      ],
      "execution_count": null,
      "outputs": []
    },
    {
      "cell_type": "code",
      "metadata": {
        "id": "yuKrQWz-hcVb",
        "colab": {
          "background_save": true
        }
      },
      "source": [
        "training_labels_final = np.array(training_labels)\n",
        "testing_labels_final = np.array(testing_labels)\n"
      ],
      "execution_count": null,
      "outputs": []
    },
    {
      "cell_type": "code",
      "metadata": {
        "id": "n7OZzLjwhkJG",
        "outputId": "e1511807-2dec-41f1-834c-6d023248d3d7",
        "colab": {
          "background_save": true
        }
      },
      "source": [
        "model = tf.keras.Sequential([\n",
        "                             tf.keras.layers.Embedding(vocab_size,embedding_dim,input_length= max_length),\n",
        "                             tf.keras.layers.Bidirectional(tf.keras.layers.LSTM(32)),\n",
        "                             tf.keras.layers.Dense(units = 6,activation = 'relu'),\n",
        "                             tf.keras.layers.Dense(units =1,activation ='sigmoid' )\n",
        "])\n",
        "model.compile(loss= 'binary_crossentropy',metrics = ['accuracy'],optimizer= 'adam')\n",
        "model.summary()"
      ],
      "execution_count": null,
      "outputs": [
        {
          "output_type": "stream",
          "text": [
            "Model: \"sequential\"\n",
            "_________________________________________________________________\n",
            "Layer (type)                 Output Shape              Param #   \n",
            "=================================================================\n",
            "embedding (Embedding)        (None, 120, 16)           160000    \n",
            "_________________________________________________________________\n",
            "bidirectional (Bidirectional (None, 64)                12544     \n",
            "_________________________________________________________________\n",
            "dense (Dense)                (None, 6)                 390       \n",
            "_________________________________________________________________\n",
            "dense_1 (Dense)              (None, 1)                 7         \n",
            "=================================================================\n",
            "Total params: 172,941\n",
            "Trainable params: 172,941\n",
            "Non-trainable params: 0\n",
            "_________________________________________________________________\n"
          ],
          "name": "stdout"
        }
      ]
    },
    {
      "cell_type": "code",
      "metadata": {
        "id": "9qd29IU_itQ3",
        "outputId": "24916b82-51d4-4dcb-9d0e-c1edae524b39",
        "colab": {
          "base_uri": "https://localhost:8080/",
          "height": 369
        }
      },
      "source": [
        "epoch_num = 10\n",
        "history = model.fit(pad_seq,training_labels_final,epochs= epoch_num,validation_data=(pad_seq_t,testing_labels_final))\n"
      ],
      "execution_count": null,
      "outputs": [
        {
          "output_type": "stream",
          "text": [
            "Epoch 1/10\n",
            "782/782 [==============================] - 63s 80ms/step - loss: 0.6670 - accuracy: 0.5923 - val_loss: 0.6746 - val_accuracy: 0.5990\n",
            "Epoch 2/10\n",
            "782/782 [==============================] - 63s 80ms/step - loss: 0.6496 - accuracy: 0.6381 - val_loss: 0.6564 - val_accuracy: 0.6226\n",
            "Epoch 3/10\n",
            "782/782 [==============================] - 63s 80ms/step - loss: 0.6135 - accuracy: 0.6899 - val_loss: 0.5374 - val_accuracy: 0.7608\n",
            "Epoch 4/10\n",
            "782/782 [==============================] - 62s 79ms/step - loss: 0.4526 - accuracy: 0.8168 - val_loss: 0.4770 - val_accuracy: 0.7908\n",
            "Epoch 5/10\n",
            "782/782 [==============================] - 62s 80ms/step - loss: 0.3541 - accuracy: 0.8690 - val_loss: 0.4362 - val_accuracy: 0.8144\n",
            "Epoch 6/10\n",
            "782/782 [==============================] - 62s 80ms/step - loss: 0.2923 - accuracy: 0.8960 - val_loss: 0.4517 - val_accuracy: 0.8092\n",
            "Epoch 7/10\n",
            "782/782 [==============================] - 62s 80ms/step - loss: 0.2507 - accuracy: 0.9128 - val_loss: 0.4779 - val_accuracy: 0.8146\n",
            "Epoch 8/10\n",
            "782/782 [==============================] - 63s 80ms/step - loss: 0.2117 - accuracy: 0.9305 - val_loss: 0.4977 - val_accuracy: 0.8104\n",
            "Epoch 9/10\n",
            "782/782 [==============================] - 63s 80ms/step - loss: 0.1894 - accuracy: 0.9391 - val_loss: 0.5422 - val_accuracy: 0.8087\n",
            "Epoch 10/10\n",
            "782/782 [==============================] - 62s 80ms/step - loss: 0.1598 - accuracy: 0.9518 - val_loss: 0.5491 - val_accuracy: 0.7996\n"
          ],
          "name": "stdout"
        }
      ]
    },
    {
      "cell_type": "code",
      "metadata": {
        "id": "sdYN3ANXjIE0",
        "outputId": "8890ebfa-08c7-4200-c741-03437a6c1d72",
        "colab": {
          "base_uri": "https://localhost:8080/",
          "height": 545
        }
      },
      "source": [
        "import matplotlib.pyplot as plt \n",
        "def plot_graphss(history,string):\n",
        "  plt.plot(history.history[string])\n",
        "  plt.plot(history.history[\"val_\"+string])\n",
        "  plt.xlabel('epochs')\n",
        "  plt.ylabel(string)\n",
        "  plt.legend([string,\"val_\"+string])\n",
        "  plt.show()\n",
        "plot_graphss(history,'accuracy')\n",
        "plot_graphss(history,'loss')\n"
      ],
      "execution_count": null,
      "outputs": [
        {
          "output_type": "display_data",
          "data": {
            "image/png": "[encoded data removed]",
            "text/plain": [
              "<Figure size 432x288 with 1 Axes>"
            ]
          },
          "metadata": {
            "tags": [],
            "needs_background": "light"
          }
        },
        {
          "output_type": "display_data",
          "data": {
            "image/png": "[encoded data removed]",
            "text/plain": [
              "<Figure size 432x288 with 1 Axes>"
            ]
          },
          "metadata": {
            "tags": [],
            "needs_background": "light"
          }
        }
      ]
    },
    {
      "cell_type": "code",
      "metadata": {
        "id": "xMQQo9cWkfcB"
      },
      "source": [
        "model = tf.keras.Sequential([tf.keras.layers.Embedding(vocab_size,embedding_dim,input_length= max_length),\n",
        "                             tf.keras.layers.Conv1D(128,5,activation='relu'),\n",
        "                             tf.keras.layers.GlobalAveragePooling1D(),\n",
        "                             tf.keras.layers.Dense(6,activation = 'relu'),\n",
        "                             tf.keras.layers.Dense(1,activation= 'sigmoid')\n",
        "                             ])"
      ],
      "execution_count": null,
      "outputs": []
    },
    {
      "cell_type": "code",
      "metadata": {
        "id": "fA8pNQd4kfQK",
        "outputId": "b92d3ced-04ea-4249-c0af-fa2e84b8bb3a",
        "colab": {
          "base_uri": "https://localhost:8080/",
          "height": 334
        }
      },
      "source": [
        "model.compile(loss= 'binary_crossentropy',metrics= ['accuracy'],optimizer= 'adam')\n",
        "model.summary()"
      ],
      "execution_count": null,
      "outputs": [
        {
          "output_type": "stream",
          "text": [
            "Model: \"sequential_1\"\n",
            "_________________________________________________________________\n",
            "Layer (type)                 Output Shape              Param #   \n",
            "=================================================================\n",
            "embedding_1 (Embedding)      (None, 120, 16)           160000    \n",
            "_________________________________________________________________\n",
            "conv1d (Conv1D)              (None, 116, 128)          10368     \n",
            "_________________________________________________________________\n",
            "global_average_pooling1d (Gl (None, 128)               0         \n",
            "_________________________________________________________________\n",
            "dense_2 (Dense)              (None, 6)                 774       \n",
            "_________________________________________________________________\n",
            "dense_3 (Dense)              (None, 1)                 7         \n",
            "=================================================================\n",
            "Total params: 171,149\n",
            "Trainable params: 171,149\n",
            "Non-trainable params: 0\n",
            "_________________________________________________________________\n"
          ],
          "name": "stdout"
        }
      ]
    },
    {
      "cell_type": "code",
      "metadata": {
        "id": "Uo4aGf3dmhay",
        "outputId": "f81ec5c6-fc6e-4a01-8c33-e80e3c987971",
        "colab": {
          "base_uri": "https://localhost:8080/",
          "height": 386
        }
      },
      "source": [
        "epoch_num = 10\n",
        "model.fit(pad_seq,training_labels_final,epochs= epoch_num,validation_data= (pad_seq_t,testing_labels_final) )"
      ],
      "execution_count": null,
      "outputs": [
        {
          "output_type": "stream",
          "text": [
            "Epoch 1/10\n",
            "782/782 [==============================] - 12s 15ms/step - loss: 0.4484 - accuracy: 0.7738 - val_loss: 0.3766 - val_accuracy: 0.8348\n",
            "Epoch 2/10\n",
            "782/782 [==============================] - 12s 16ms/step - loss: 0.2771 - accuracy: 0.8872 - val_loss: 0.4014 - val_accuracy: 0.8251\n",
            "Epoch 3/10\n",
            "782/782 [==============================] - 12s 15ms/step - loss: 0.2260 - accuracy: 0.9133 - val_loss: 0.4232 - val_accuracy: 0.8227\n",
            "Epoch 4/10\n",
            "782/782 [==============================] - 12s 16ms/step - loss: 0.1881 - accuracy: 0.9292 - val_loss: 0.4653 - val_accuracy: 0.8170\n",
            "Epoch 5/10\n",
            "782/782 [==============================] - 12s 15ms/step - loss: 0.1561 - accuracy: 0.9444 - val_loss: 0.5151 - val_accuracy: 0.8115\n",
            "Epoch 6/10\n",
            "782/782 [==============================] - 12s 15ms/step - loss: 0.1294 - accuracy: 0.9561 - val_loss: 0.5662 - val_accuracy: 0.8064\n",
            "Epoch 7/10\n",
            "782/782 [==============================] - 12s 15ms/step - loss: 0.1024 - accuracy: 0.9678 - val_loss: 0.6993 - val_accuracy: 0.7940\n",
            "Epoch 8/10\n",
            "782/782 [==============================] - 12s 15ms/step - loss: 0.0796 - accuracy: 0.9763 - val_loss: 0.7789 - val_accuracy: 0.7996\n",
            "Epoch 9/10\n",
            "782/782 [==============================] - 12s 15ms/step - loss: 0.0628 - accuracy: 0.9824 - val_loss: 0.8824 - val_accuracy: 0.7947\n",
            "Epoch 10/10\n",
            "782/782 [==============================] - 12s 15ms/step - loss: 0.0497 - accuracy: 0.9859 - val_loss: 1.0044 - val_accuracy: 0.7844\n"
          ],
          "name": "stdout"
        },
        {
          "output_type": "execute_result",
          "data": {
            "text/plain": [
              "<tensorflow.python.keras.callbacks.History at 0x7ff67fbd1710>"
            ]
          },
          "metadata": {
            "tags": []
          },
          "execution_count": 17
        }
      ]
    },
    {
      "cell_type": "code",
      "metadata": {
        "id": "NOZMyDdVmh0K",
        "outputId": "0026e664-e967-42d1-e096-9daeff22aca9",
        "colab": {
          "base_uri": "https://localhost:8080/",
          "height": 545
        }
      },
      "source": [
        "import matplotlib.pyplot as plt \n",
        "def plot_graphs(history,string):\n",
        "  plt.plot(history.history[string])\n",
        "  plt.plot(history.history[\"val_\"+string])\n",
        "  plt.xlabel('epochs')\n",
        "  plt.ylabel(string)\n",
        "  plt.legend([string,\"val_\"+string])\n",
        "  plt.show()\n",
        "plot_graphs(history,'accuracy')\n",
        "plot_graphs(history,'loss')\n"
      ],
      "execution_count": null,
      "outputs": [
        {
          "output_type": "display_data",
          "data": {
            "image/png": "[encoded data removed]",
            "text/plain": [
              "<Figure size 432x288 with 1 Axes>"
            ]
          },
          "metadata": {
            "tags": [],
            "needs_background": "light"
          }
        },
        {
          "output_type": "display_data",
          "data": {
            "image/png": "[encoded data removed]",
            "text/plain": [
              "<Figure size 432x288 with 1 Axes>"
            ]
          },
          "metadata": {
            "tags": [],
            "needs_background": "light"
          }
        }
      ]
    },
    {
      "cell_type": "markdown",
      "metadata": {
        "id": "U1_B5WB4m1wh"
      },
      "source": [
        ""
      ]
    },
    {
      "cell_type": "code",
      "metadata": {
        "id": "cpKePtHFmhjW"
      },
      "source": [
        ""
      ],
      "execution_count": null,
      "outputs": []
    },
    {
      "cell_type": "code",
      "metadata": {
        "id": "zHdfLOfUmhQz"
      },
      "source": [
        ""
      ],
      "execution_count": null,
      "outputs": []
    }
  ]
}